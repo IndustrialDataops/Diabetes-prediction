{
 "cells": [
  {
   "cell_type": "code",
   "execution_count": 1,
   "id": "7255abf0",
   "metadata": {},
   "outputs": [],
   "source": [
    "import numpy as np\n",
    "import matplotlib.pyplot as plt\n",
    "import pandas as pd\n",
    "import seaborn as sns"
   ]
  },
  {
   "cell_type": "code",
   "execution_count": 2,
   "id": "2945d52f",
   "metadata": {},
   "outputs": [],
   "source": [
    "data = pd.read_parquet(r\"./data/processedData_first.parquet\")"
   ]
  },
  {
   "cell_type": "code",
   "execution_count": 3,
   "id": "d88de71b",
   "metadata": {},
   "outputs": [],
   "source": [
    "df = data[['systolic','diastolic','hdl','ldl','bmi','age','diabetic']]"
   ]
  },
  {
   "cell_type": "code",
   "execution_count": 4,
   "id": "a01eb3bf",
   "metadata": {},
   "outputs": [
    {
     "data": {
      "text/html": [
       "<div>\n",
       "<style scoped>\n",
       "    .dataframe tbody tr th:only-of-type {\n",
       "        vertical-align: middle;\n",
       "    }\n",
       "\n",
       "    .dataframe tbody tr th {\n",
       "        vertical-align: top;\n",
       "    }\n",
       "\n",
       "    .dataframe thead th {\n",
       "        text-align: right;\n",
       "    }\n",
       "</style>\n",
       "<table border=\"1\" class=\"dataframe\">\n",
       "  <thead>\n",
       "    <tr style=\"text-align: right;\">\n",
       "      <th></th>\n",
       "      <th>patientid</th>\n",
       "      <th>dateofobservation</th>\n",
       "      <th>systolic</th>\n",
       "      <th>diastolic</th>\n",
       "      <th>hdl</th>\n",
       "      <th>ldl</th>\n",
       "      <th>bmi</th>\n",
       "      <th>age</th>\n",
       "      <th>start</th>\n",
       "      <th>diabetic</th>\n",
       "    </tr>\n",
       "  </thead>\n",
       "  <tbody>\n",
       "    <tr>\n",
       "      <th>0</th>\n",
       "      <td>02314aa6-55ab-e606-7089-e3185adee368</td>\n",
       "      <td>2015-02-18T14:33:45Z</td>\n",
       "      <td>145.0</td>\n",
       "      <td>111.0</td>\n",
       "      <td>66.1</td>\n",
       "      <td>84.5</td>\n",
       "      <td>29.2</td>\n",
       "      <td>31.221918</td>\n",
       "      <td>2015-02-18</td>\n",
       "      <td>1</td>\n",
       "    </tr>\n",
       "    <tr>\n",
       "      <th>1</th>\n",
       "      <td>032391df-fed2-6b2d-f882-d0328ef23cbe</td>\n",
       "      <td>2013-03-22T18:42:57Z</td>\n",
       "      <td>111.0</td>\n",
       "      <td>84.0</td>\n",
       "      <td>71.1</td>\n",
       "      <td>83.0</td>\n",
       "      <td>29.3</td>\n",
       "      <td>31.221918</td>\n",
       "      <td>None</td>\n",
       "      <td>0</td>\n",
       "    </tr>\n",
       "  </tbody>\n",
       "</table>\n",
       "</div>"
      ],
      "text/plain": [
       "                              patientid     dateofobservation systolic  \\\n",
       "0  02314aa6-55ab-e606-7089-e3185adee368  2015-02-18T14:33:45Z    145.0   \n",
       "1  032391df-fed2-6b2d-f882-d0328ef23cbe  2013-03-22T18:42:57Z    111.0   \n",
       "\n",
       "  diastolic   hdl   ldl   bmi        age       start  diabetic  \n",
       "0     111.0  66.1  84.5  29.2  31.221918  2015-02-18         1  \n",
       "1      84.0  71.1  83.0  29.3  31.221918        None         0  "
      ]
     },
     "execution_count": 4,
     "metadata": {},
     "output_type": "execute_result"
    }
   ],
   "source": [
    "data.head(2)"
   ]
  },
  {
   "cell_type": "code",
   "execution_count": 5,
   "id": "5b5fb5a1",
   "metadata": {},
   "outputs": [
    {
     "data": {
      "text/html": [
       "<div>\n",
       "<style scoped>\n",
       "    .dataframe tbody tr th:only-of-type {\n",
       "        vertical-align: middle;\n",
       "    }\n",
       "\n",
       "    .dataframe tbody tr th {\n",
       "        vertical-align: top;\n",
       "    }\n",
       "\n",
       "    .dataframe thead th {\n",
       "        text-align: right;\n",
       "    }\n",
       "</style>\n",
       "<table border=\"1\" class=\"dataframe\">\n",
       "  <thead>\n",
       "    <tr style=\"text-align: right;\">\n",
       "      <th></th>\n",
       "      <th>systolic</th>\n",
       "      <th>diastolic</th>\n",
       "      <th>hdl</th>\n",
       "      <th>ldl</th>\n",
       "      <th>bmi</th>\n",
       "      <th>age</th>\n",
       "      <th>diabetic</th>\n",
       "    </tr>\n",
       "  </thead>\n",
       "  <tbody>\n",
       "    <tr>\n",
       "      <th>0</th>\n",
       "      <td>145.0</td>\n",
       "      <td>111.0</td>\n",
       "      <td>66.1</td>\n",
       "      <td>84.5</td>\n",
       "      <td>29.2</td>\n",
       "      <td>31.221918</td>\n",
       "      <td>1</td>\n",
       "    </tr>\n",
       "    <tr>\n",
       "      <th>1</th>\n",
       "      <td>111.0</td>\n",
       "      <td>84.0</td>\n",
       "      <td>71.1</td>\n",
       "      <td>83.0</td>\n",
       "      <td>29.3</td>\n",
       "      <td>31.221918</td>\n",
       "      <td>0</td>\n",
       "    </tr>\n",
       "  </tbody>\n",
       "</table>\n",
       "</div>"
      ],
      "text/plain": [
       "  systolic diastolic   hdl   ldl   bmi        age  diabetic\n",
       "0    145.0     111.0  66.1  84.5  29.2  31.221918         1\n",
       "1    111.0      84.0  71.1  83.0  29.3  31.221918         0"
      ]
     },
     "execution_count": 5,
     "metadata": {},
     "output_type": "execute_result"
    }
   ],
   "source": [
    "df.head(2)"
   ]
  },
  {
   "cell_type": "code",
   "execution_count": 45,
   "id": "2fc04ef3",
   "metadata": {},
   "outputs": [
    {
     "data": {
      "image/png": "[encoded data removed]",
      "text/plain": [
       "<Figure size 432x288 with 1 Axes>"
      ]
     },
     "metadata": {},
     "output_type": "display_data"
    }
   ],
   "source": [
    "df[\"diabetic\"].value_counts().plot(kind=\"bar\",color=[\"orange\",\"crimson\"])\n",
    "plt.xticks(np.arange(2), ('No Diabetes', 'Diabetes'),rotation=0);"
   ]
  },
  {
   "cell_type": "code",
   "execution_count": 46,
   "id": "b55d9f0b",
   "metadata": {},
   "outputs": [
    {
     "data": {
      "image/png": "[encoded data removed]",
      "text/plain": [
       "<Figure size 230.05x180 with 2 Axes>"
      ]
     },
     "metadata": {},
     "output_type": "display_data"
    }
   ],
   "source": [
    "import seaborn as sns\n",
    "sns.set(style=\"ticks\", color_codes=True)\n",
    "sns.pairplot(df,hue='diabetic',palette='gnuplot');"
   ]
  },
  {
   "cell_type": "code",
   "execution_count": 47,
   "id": "a2644477",
   "metadata": {},
   "outputs": [
    {
     "data": {
      "image/png": "[encoded data removed]",
      "text/plain": [
       "<Figure size 432x288 with 1 Axes>"
      ]
     },
     "metadata": {},
     "output_type": "display_data"
    },
    {
     "data": {
      "image/png": "[encoded data removed]",
      "text/plain": [
       "<Figure size 432x288 with 1 Axes>"
      ]
     },
     "metadata": {},
     "output_type": "display_data"
    },
    {
     "data": {
      "image/png": "[encoded data removed]",
      "text/plain": [
       "<Figure size 432x288 with 1 Axes>"
      ]
     },
     "metadata": {},
     "output_type": "display_data"
    },
    {
     "data": {
      "image/png": "[encoded data removed]",
      "text/plain": [
       "<Figure size 432x288 with 1 Axes>"
      ]
     },
     "metadata": {},
     "output_type": "display_data"
    },
    {
     "data": {
      "image/png": "[encoded data removed]",
      "text/plain": [
       "<Figure size 432x288 with 1 Axes>"
      ]
     },
     "metadata": {},
     "output_type": "display_data"
    }
   ],
   "source": [
    "for i,col in enumerate(['systolic','diastolic','hdl','ldl','bmi']):\n",
    "    plt.figure(i)\n",
    "    sns.histplot(data=df[df['diabetic']==1],x=col).set(xscale=\"linear\",title=\"{} distribution\".format(col))"
   ]
  },
  {
   "cell_type": "code",
   "execution_count": 6,
   "id": "bfd5c13c",
   "metadata": {},
   "outputs": [],
   "source": [
    "from sklearn.model_selection import train_test_split\n",
    "df.sample(frac=1)\n",
    "\n",
    "\n",
    "X = df.drop(\"diabetic\",axis=1)\n",
    "y = df[\"diabetic\"]\n",
    "X_train,X_test,y_train,y_test =  train_test_split(X,\n",
    "                                              y,\n",
    "                                              test_size=0.2)"
   ]
  },
  {
   "cell_type": "code",
   "execution_count": 9,
   "id": "abbe6284",
   "metadata": {},
   "outputs": [
    {
     "data": {
      "text/plain": [
       "(18188, 4548)"
      ]
     },
     "execution_count": 9,
     "metadata": {},
     "output_type": "execute_result"
    }
   ],
   "source": [
    "(len(X_train),len(X_test))"
   ]
  },
  {
   "cell_type": "code",
   "execution_count": 10,
   "id": "956ae1de",
   "metadata": {},
   "outputs": [
    {
     "data": {
      "text/plain": [
       "0.9311785400175902"
      ]
     },
     "execution_count": 10,
     "metadata": {},
     "output_type": "execute_result"
    }
   ],
   "source": [
    "from sklearn.linear_model import LogisticRegression\n",
    "log_reg = LogisticRegression(random_state=0)\n",
    "log_reg.fit(X_train,y_train)\n",
    "log_reg.score(X_test,y_test)"
   ]
  },
  {
   "cell_type": "code",
   "execution_count": 11,
   "id": "f14857e4",
   "metadata": {},
   "outputs": [
    {
     "data": {
      "text/plain": [
       "0.9423922603342129"
      ]
     },
     "execution_count": 11,
     "metadata": {},
     "output_type": "execute_result"
    }
   ],
   "source": [
    "from sklearn.neighbors import KNeighborsClassifier\n",
    "knn = KNeighborsClassifier()\n",
    "knn.fit(X_train,y_train);\n",
    "knn.score(X_test,y_test)"
   ]
  },
  {
   "cell_type": "code",
   "execution_count": 12,
   "id": "643f9587",
   "metadata": {},
   "outputs": [
    {
     "data": {
      "text/plain": [
       "0.9481090589270009"
      ]
     },
     "execution_count": 12,
     "metadata": {},
     "output_type": "execute_result"
    }
   ],
   "source": [
    "from sklearn.ensemble import RandomForestClassifier\n",
    "clf= RandomForestClassifier()\n",
    "clf.fit(X_train,y_train);\n",
    "clf.score(X_test,y_test)"
   ]
  },
  {
   "cell_type": "code",
   "execution_count": 13,
   "id": "7f39cd2d",
   "metadata": {},
   "outputs": [
    {
     "data": {
      "text/plain": [
       "0.9397537379067722"
      ]
     },
     "execution_count": 13,
     "metadata": {},
     "output_type": "execute_result"
    }
   ],
   "source": [
    "from sklearn.svm import SVC\n",
    "svm = SVC()\n",
    "svm.fit(X_train,y_train)\n",
    "svm.score(X_test,y_test)"
   ]
  },
  {
   "cell_type": "code",
   "execution_count": null,
   "id": "f87a224a",
   "metadata": {},
   "outputs": [],
   "source": []
  },
  {
   "cell_type": "code",
   "execution_count": 19,
   "id": "a814cd26",
   "metadata": {},
   "outputs": [
    {
     "name": "stdout",
     "output_type": "stream",
     "text": [
      "Fitting 5 folds for each of 60 candidates, totalling 300 fits\n"
     ]
    },
    {
     "name": "stderr",
     "output_type": "stream",
     "text": [
      "[Parallel(n_jobs=3)]: Using backend LokyBackend with 3 concurrent workers.\n",
      "[Parallel(n_jobs=3)]: Done  44 tasks      | elapsed:  1.2min\n",
      "[Parallel(n_jobs=3)]: Done 194 tasks      | elapsed:  5.9min\n",
      "[Parallel(n_jobs=3)]: Done 300 out of 300 | elapsed:  9.5min finished\n"
     ]
    },
    {
     "data": {
      "text/plain": [
       "0.9478891820580475"
      ]
     },
     "execution_count": 19,
     "metadata": {},
     "output_type": "execute_result"
    }
   ],
   "source": [
    "from sklearn.model_selection import RandomizedSearchCV,GridSearchCV\n",
    "\n",
    "param_grid = { \n",
    "    'n_estimators': [200, 500],\n",
    "    'max_features': ['auto', 'sqrt', 'log2'],\n",
    "    'max_depth' : [4,5,6,7,8],\n",
    "    'criterion' :['gini', 'entropy']\n",
    "}\n",
    "rfc=RandomForestClassifier(random_state=42)\n",
    "gs_clf = GridSearchCV(rfc,\n",
    "                          param_grid=param_grid,\n",
    "                          cv=5,\n",
    "                          n_jobs=3,\n",
    "                          verbose=True)\n",
    "\n",
    "#fit grid search cv\n",
    "gs_clf.fit(X_train,y_train)\n",
    "gs_clf.score(X_test,y_test)"
   ]
  },
  {
   "cell_type": "code",
   "execution_count": 20,
   "id": "aca10447",
   "metadata": {},
   "outputs": [
    {
     "name": "stdout",
     "output_type": "stream",
     "text": [
      "Fitting 5 folds for each of 20 candidates, totalling 100 fits\n"
     ]
    },
    {
     "name": "stderr",
     "output_type": "stream",
     "text": [
      "[Parallel(n_jobs=3)]: Using backend LokyBackend with 3 concurrent workers.\n",
      "[Parallel(n_jobs=3)]: Done  44 tasks      | elapsed:  1.4min\n",
      "[Parallel(n_jobs=3)]: Done 100 out of 100 | elapsed:  2.7min finished\n"
     ]
    },
    {
     "data": {
      "text/plain": [
       "0.9476693051890941"
      ]
     },
     "execution_count": 20,
     "metadata": {},
     "output_type": "execute_result"
    }
   ],
   "source": [
    "clf_grid = {\"C\": np.logspace(-4, 4, 20),\n",
    "                \"solver\": [\"liblinear\"]}\n",
    "\n",
    "np.random.seed(42)\n",
    "\n",
    "rs_clf = RandomizedSearchCV(rfc,\n",
    "                                param_distributions=param_grid,\n",
    "                                cv=5,\n",
    "                                n_iter=20,\n",
    "                                n_jobs=3,\n",
    "                                verbose=True)\n",
    "\n",
    "\n",
    "rs_clf.fit(X_train, y_train)\n",
    "rs_clf.score(X_test,y_test)"
   ]
  },
  {
   "cell_type": "code",
   "execution_count": 21,
   "id": "3de46f09",
   "metadata": {},
   "outputs": [
    {
     "data": {
      "text/plain": [
       "array([0, 0, 0, ..., 0, 0, 0])"
      ]
     },
     "execution_count": 21,
     "metadata": {},
     "output_type": "execute_result"
    }
   ],
   "source": [
    "y_preds = gs_clf.predict(X_test)\n",
    "y_preds"
   ]
  },
  {
   "cell_type": "code",
   "execution_count": 22,
   "id": "a0010726",
   "metadata": {},
   "outputs": [
    {
     "data": {
      "text/plain": [
       "array([0, 0, 0, ..., 0, 0, 0])"
      ]
     },
     "execution_count": 22,
     "metadata": {},
     "output_type": "execute_result"
    }
   ],
   "source": [
    "np.array(y_test)"
   ]
  },
  {
   "cell_type": "code",
   "execution_count": 25,
   "id": "36c398ad",
   "metadata": {},
   "outputs": [
    {
     "data": {
      "text/plain": [
       "<sklearn.metrics._plot.roc_curve.RocCurveDisplay at 0x250a7f7cb50>"
      ]
     },
     "execution_count": 25,
     "metadata": {},
     "output_type": "execute_result"
    },
    {
     "data": {
      "image/png": "[encoded data removed]",
      "text/plain": [
       "<Figure size 432x288 with 1 Axes>"
      ]
     },
     "metadata": {
      "needs_background": "light"
     },
     "output_type": "display_data"
    }
   ],
   "source": [
    "from sklearn.metrics import plot_roc_curve\n",
    "plot_roc_curve(gs_clf,X_test,y_test)"
   ]
  },
  {
   "cell_type": "code",
   "execution_count": 27,
   "id": "b281d4fc",
   "metadata": {},
   "outputs": [
    {
     "data": {
      "image/png": "[encoded data removed]",
      "text/plain": [
       "<Figure size 432x288 with 1 Axes>"
      ]
     },
     "metadata": {},
     "output_type": "display_data"
    }
   ],
   "source": [
    "from sklearn.metrics import confusion_matrix, classification_report\n",
    "import seaborn as sns\n",
    "sns.set(font_scale=2)\n",
    "sns.heatmap(confusion_matrix(y_test,y_preds), annot=True,cbar=False, fmt='g')\n",
    "plt.xlabel(\"True label\")\n",
    "plt.ylabel(\"Predicted label\");"
   ]
  },
  {
   "cell_type": "code",
   "execution_count": 28,
   "id": "dc12f11a",
   "metadata": {},
   "outputs": [
    {
     "name": "stdout",
     "output_type": "stream",
     "text": [
      "              precision    recall  f1-score   support\n",
      "\n",
      "           0       0.95      0.99      0.97      4071\n",
      "           1       0.91      0.56      0.69       477\n",
      "\n",
      "    accuracy                           0.95      4548\n",
      "   macro avg       0.93      0.78      0.83      4548\n",
      "weighted avg       0.95      0.95      0.94      4548\n",
      "\n"
     ]
    }
   ],
   "source": [
    "print(classification_report(y_test, y_preds))"
   ]
  },
  {
   "cell_type": "code",
   "execution_count": 29,
   "id": "a58f4d21",
   "metadata": {},
   "outputs": [],
   "source": [
    "import pickle\n",
    "\n",
    "# Save trained model to file\n",
    "pickle.dump(gs_clf, open(\"diabetes0712.pkl\", \"wb\"))"
   ]
  },
  {
   "cell_type": "code",
   "execution_count": 30,
   "id": "dadbd17b",
   "metadata": {},
   "outputs": [],
   "source": [
    "model = pickle.load(open(\"diabetes0712.pkl\", \"rb\"))"
   ]
  },
  {
   "cell_type": "code",
   "execution_count": 44,
   "id": "157d9c32",
   "metadata": {},
   "outputs": [
    {
     "data": {
      "text/html": [
       "<div>\n",
       "<style scoped>\n",
       "    .dataframe tbody tr th:only-of-type {\n",
       "        vertical-align: middle;\n",
       "    }\n",
       "\n",
       "    .dataframe tbody tr th {\n",
       "        vertical-align: top;\n",
       "    }\n",
       "\n",
       "    .dataframe thead th {\n",
       "        text-align: right;\n",
       "    }\n",
       "</style>\n",
       "<table border=\"1\" class=\"dataframe\">\n",
       "  <thead>\n",
       "    <tr style=\"text-align: right;\">\n",
       "      <th></th>\n",
       "      <th>systolic</th>\n",
       "      <th>diastolic</th>\n",
       "      <th>hdl</th>\n",
       "      <th>ldl</th>\n",
       "      <th>bmi</th>\n",
       "      <th>age</th>\n",
       "      <th>diabetic</th>\n",
       "    </tr>\n",
       "  </thead>\n",
       "  <tbody>\n",
       "    <tr>\n",
       "      <th>0</th>\n",
       "      <td>145.0</td>\n",
       "      <td>111.0</td>\n",
       "      <td>66.1</td>\n",
       "      <td>84.5</td>\n",
       "      <td>29.2</td>\n",
       "      <td>31.221918</td>\n",
       "      <td>1</td>\n",
       "    </tr>\n",
       "    <tr>\n",
       "      <th>12</th>\n",
       "      <td>113.0</td>\n",
       "      <td>83.0</td>\n",
       "      <td>69.4</td>\n",
       "      <td>88.3</td>\n",
       "      <td>30.2</td>\n",
       "      <td>85.476712</td>\n",
       "      <td>1</td>\n",
       "    </tr>\n",
       "    <tr>\n",
       "      <th>25</th>\n",
       "      <td>156.0</td>\n",
       "      <td>102.0</td>\n",
       "      <td>45.0</td>\n",
       "      <td>130.1</td>\n",
       "      <td>25.6</td>\n",
       "      <td>23.205479</td>\n",
       "      <td>1</td>\n",
       "    </tr>\n",
       "    <tr>\n",
       "      <th>29</th>\n",
       "      <td>104.0</td>\n",
       "      <td>84.0</td>\n",
       "      <td>52.3</td>\n",
       "      <td>117.9</td>\n",
       "      <td>27.4</td>\n",
       "      <td>68.427397</td>\n",
       "      <td>1</td>\n",
       "    </tr>\n",
       "    <tr>\n",
       "      <th>41</th>\n",
       "      <td>105.0</td>\n",
       "      <td>80.0</td>\n",
       "      <td>69.7</td>\n",
       "      <td>100.5</td>\n",
       "      <td>28.6</td>\n",
       "      <td>91.153425</td>\n",
       "      <td>1</td>\n",
       "    </tr>\n",
       "  </tbody>\n",
       "</table>\n",
       "</div>"
      ],
      "text/plain": [
       "   systolic diastolic   hdl    ldl   bmi        age  diabetic\n",
       "0     145.0     111.0  66.1   84.5  29.2  31.221918         1\n",
       "12    113.0      83.0  69.4   88.3  30.2  85.476712         1\n",
       "25    156.0     102.0  45.0  130.1  25.6  23.205479         1\n",
       "29    104.0      84.0  52.3  117.9  27.4  68.427397         1\n",
       "41    105.0      80.0  69.7  100.5  28.6  91.153425         1"
      ]
     },
     "execution_count": 44,
     "metadata": {},
     "output_type": "execute_result"
    }
   ],
   "source": [
    "df[df['diabetic']==1].head(5)"
   ]
  },
  {
   "cell_type": "code",
   "execution_count": 38,
   "id": "4edbf1a4",
   "metadata": {},
   "outputs": [],
   "source": [
    "row_df = pd.DataFrame([pd.Series([113,82,61.9,102.6,27.3,90])])"
   ]
  },
  {
   "cell_type": "code",
   "execution_count": 48,
   "id": "70eee1b8",
   "metadata": {},
   "outputs": [
    {
     "data": {
      "text/plain": [
       "0.05703446498273414"
      ]
     },
     "execution_count": 48,
     "metadata": {},
     "output_type": "execute_result"
    }
   ],
   "source": [
    "model.predict_proba(row_df)[0][1]"
   ]
  },
  {
   "cell_type": "code",
   "execution_count": null,
   "id": "46180de1",
   "metadata": {},
   "outputs": [],
   "source": []
  }
 ],
 "metadata": {
  "kernelspec": {
   "display_name": "Python 3",
   "language": "python",
   "name": "python3"
  },
  "language_info": {
   "codemirror_mode": {
    "name": "ipython",
    "version": 3
   },
   "file_extension": ".py",
   "mimetype": "text/x-python",
   "name": "python",
   "nbconvert_exporter": "python",
   "pygments_lexer": "ipython3",
   "version": "3.8.3"
  }
 },
 "nbformat": 4,
 "nbformat_minor": 5
}
