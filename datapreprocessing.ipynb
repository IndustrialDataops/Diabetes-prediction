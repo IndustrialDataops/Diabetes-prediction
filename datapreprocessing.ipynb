{
 "cells": [
  {
   "cell_type": "code",
   "execution_count": 1,
   "id": "fbd43794",
   "metadata": {},
   "outputs": [],
   "source": [
    "from pyspark.sql import SparkSession\n",
    "spark = SparkSession.builder.getOrCreate()"
   ]
  },
  {
   "cell_type": "code",
   "execution_count": 4,
   "id": "1017ac32",
   "metadata": {},
   "outputs": [],
   "source": [
    "observations_df  = spark.read.option(\"header\",\"true\").csv(r\"..\\output\\csv\\observations.csv\")"
   ]
  },
  {
   "cell_type": "code",
   "execution_count": 6,
   "id": "e84aff67",
   "metadata": {},
   "outputs": [
    {
     "name": "stdout",
     "output_type": "stream",
     "text": [
      "+--------------------+--------------------+-----------+-------+--------------------+-----+-------+-------+\n",
      "|                DATE|             PATIENT|   CATEGORY|   CODE|         DESCRIPTION|VALUE|  UNITS|   TYPE|\n",
      "+--------------------+--------------------+-----------+-------+--------------------+-----+-------+-------+\n",
      "|2013-06-17T15:35:01Z|ee81448e-95eb-01c...|vital-signs| 8302-2|         Body Height| 54.8|     cm|numeric|\n",
      "|2016-03-01T14:34:18Z|16567962-4bec-368...|vital-signs| 8302-2|         Body Height| 52.3|     cm|numeric|\n",
      "|2013-06-17T15:35:01Z|ee81448e-95eb-01c...|vital-signs|72514-3|Pain severity - 0...|  1.0|{score}|numeric|\n",
      "|2016-03-01T14:34:18Z|16567962-4bec-368...|vital-signs|72514-3|Pain severity - 0...|  1.0|{score}|numeric|\n",
      "|2013-06-17T15:35:01Z|ee81448e-95eb-01c...|vital-signs|29463-7|         Body Weight|  4.8|     kg|numeric|\n",
      "+--------------------+--------------------+-----------+-------+--------------------+-----+-------+-------+\n",
      "only showing top 5 rows\n",
      "\n"
     ]
    }
   ],
   "source": [
    "observations_df.drop(\"ENCOUNTER\").show(5)"
   ]
  },
  {
   "cell_type": "code",
   "execution_count": 7,
   "id": "83db4577",
   "metadata": {},
   "outputs": [],
   "source": [
    "from pyspark.sql.functions import *"
   ]
  },
  {
   "cell_type": "code",
   "execution_count": 8,
   "id": "bcd7afbf",
   "metadata": {},
   "outputs": [],
   "source": [
    "systolic_observations_df = (observations_df.select(\"PATIENT\", \"DATE\", \"VALUE\")\n",
    "                   .withColumnRenamed(\"VALUE\", \"systolic\")\n",
    "                   .withColumnRenamed(\"PATIENT\",\"patientid\")\n",
    "                   .withColumnRenamed(\"DATE\",\"dateofobservation\")\n",
    "                   .filter((col(\"CODE\") == \"8480-6\"))\n",
    "  )\n"
   ]
  },
  {
   "cell_type": "code",
   "execution_count": 11,
   "id": "1ae81cd8",
   "metadata": {},
   "outputs": [
    {
     "name": "stdout",
     "output_type": "stream",
     "text": [
      "+--------------------+--------------------+--------+\n",
      "|           patientid|   dateofobservation|systolic|\n",
      "+--------------------+--------------------+--------+\n",
      "|ee81448e-95eb-01c...|2013-06-17T15:35:01Z|   131.0|\n",
      "|16567962-4bec-368...|2016-03-01T14:34:18Z|   116.0|\n",
      "|16567962-4bec-368...|2016-04-05T14:34:18Z|   109.0|\n",
      "|ee81448e-95eb-01c...|2013-07-22T15:35:01Z|   136.0|\n",
      "|ee81448e-95eb-01c...|2013-09-23T15:35:01Z|   125.0|\n",
      "+--------------------+--------------------+--------+\n",
      "only showing top 5 rows\n",
      "\n"
     ]
    }
   ],
   "source": [
    "systolic_observations_df.show(5)"
   ]
  },
  {
   "cell_type": "code",
   "execution_count": 13,
   "id": "89da7435",
   "metadata": {},
   "outputs": [],
   "source": [
    "diastolic_observations_df = (\n",
    "    observations_df.select(\"PATIENT\", \"DATE\", \"VALUE\")\n",
    "                   .withColumnRenamed(\"VALUE\", \"diastolic\")\n",
    "                   .withColumnRenamed(\"PATIENT\",\"patientid\")\n",
    "                   .withColumnRenamed(\"DATE\",\"dateofobservation\")\n",
    "                   .filter((col(\"code\") == \"8462-4\"))\n",
    "    )\n",
    "\n",
    "hdl_observations_df = (\n",
    "    observations_df.select(\"PATIENT\", \"DATE\", \"VALUE\")\n",
    "                   .withColumnRenamed(\"VALUE\", \"hdl\")\n",
    "                   .withColumnRenamed(\"PATIENT\",\"patientid\")\n",
    "                   .withColumnRenamed(\"DATE\",\"dateofobservation\")\n",
    "                   .filter((col(\"code\") == \"2085-9\"))\n",
    "    )\n",
    "\n",
    "ldl_observations_df = (\n",
    "    observations_df.select(\"PATIENT\", \"DATE\", \"VALUE\")\n",
    "                   .withColumnRenamed(\"VALUE\", \"ldl\")\n",
    "                   .withColumnRenamed(\"PATIENT\",\"patientid\")\n",
    "                   .withColumnRenamed(\"DATE\",\"dateofobservation\")\n",
    "                   .filter((col(\"code\") == \"18262-6\"))\n",
    "    )\n",
    "\n",
    "bmi_observations_df = (\n",
    "    observations_df.select(\"PATIENT\", \"DATE\", \"VALUE\")\n",
    "                   .withColumnRenamed(\"VALUE\", \"bmi\")\n",
    "                   .withColumnRenamed(\"PATIENT\",\"patientid\")\n",
    "                   .withColumnRenamed(\"DATE\",\"dateofobservation\")\n",
    "                   .filter((col(\"code\") == \"39156-5\"))\n",
    "    )"
   ]
  },
  {
   "cell_type": "code",
   "execution_count": 20,
   "id": "bed92ce7",
   "metadata": {},
   "outputs": [
    {
     "name": "stdout",
     "output_type": "stream",
     "text": [
      "+--------------------+--------------------+----+\n",
      "|           patientid|   dateofobservation| bmi|\n",
      "+--------------------+--------------------+----+\n",
      "|f2cdc9a2-6cef-c62...|2011-09-09T00:31:24Z|17.9|\n",
      "|ee81448e-95eb-01c...|2015-11-23T15:35:01Z|18.3|\n",
      "|ee81448e-95eb-01c...|2016-05-23T15:35:01Z|17.4|\n",
      "|ee81448e-95eb-01c...|2016-11-21T15:35:01Z|16.8|\n",
      "|ee81448e-95eb-01c...|2017-05-22T15:35:01Z|16.4|\n",
      "+--------------------+--------------------+----+\n",
      "only showing top 5 rows\n",
      "\n"
     ]
    }
   ],
   "source": [
    "bmi_observations_df.show(5)"
   ]
  },
  {
   "cell_type": "code",
   "execution_count": 19,
   "id": "fc148cfa",
   "metadata": {},
   "outputs": [
    {
     "name": "stdout",
     "output_type": "stream",
     "text": [
      "+--------------------+--------------------+--------+---------+----+-----+----+\n",
      "|           patientid|   dateofobservation|systolic|diastolic| hdl|  ldl| bmi|\n",
      "+--------------------+--------------------+--------+---------+----+-----+----+\n",
      "|007dca45-b0c3-cbf...|2008-07-20T00:06:17Z|   124.0|     88.0|62.0| 83.7|27.7|\n",
      "|007f51fe-4731-86b...|2016-11-10T11:03:34Z|   127.0|     80.0|65.8|109.3|30.1|\n",
      "|0115568f-b00b-19f...|2018-02-27T02:19:08Z|   123.0|     88.0|55.0|151.3|27.8|\n",
      "|012da0c4-8f2d-f59...|2015-10-30T07:56:09Z|   127.0|     74.0|43.7|155.6|28.4|\n",
      "|01f5bb36-ba72-80b...|2018-07-10T23:38:57Z|   109.0|     84.0|67.0| 99.3|30.1|\n",
      "+--------------------+--------------------+--------+---------+----+-----+----+\n",
      "only showing top 5 rows\n",
      "\n"
     ]
    }
   ],
   "source": [
    "merged_observations_df = (\n",
    "    systolic_observations_df.join(diastolic_observations_df, [\"patientid\", \"dateofobservation\"])\n",
    "                            .join(hdl_observations_df, [\"patientid\", \"dateofobservation\"])\n",
    "                            .join(ldl_observations_df, [\"patientid\", \"dateofobservation\"])\n",
    "                            .join(bmi_observations_df, [\"patientid\", \"dateofobservation\"])\n",
    ")\n",
    "\n",
    "merged_observations_df.show(5)"
   ]
  },
  {
   "cell_type": "code",
   "execution_count": 22,
   "id": "fb31d702",
   "metadata": {},
   "outputs": [
    {
     "name": "stdout",
     "output_type": "stream",
     "text": [
      "+--------------------+-----------+\n",
      "|           patientid|dateofbirth|\n",
      "+--------------------+-----------+\n",
      "|ee81448e-95eb-01c...| 2013-06-17|\n",
      "|16567962-4bec-368...| 2016-03-01|\n",
      "|f2cdc9a2-6cef-c62...| 1998-05-07|\n",
      "|cbb876f7-4e53-8f1...| 1972-04-15|\n",
      "|73cd25ba-4d2c-576...| 1971-05-08|\n",
      "+--------------------+-----------+\n",
      "only showing top 5 rows\n",
      "\n"
     ]
    }
   ],
   "source": [
    "patients_df = (spark.read.option(\"header\",\"true\").csv(r\"C:\\work\\argo\\ml\\synthea\\output\\csv\\patients.csv\")\n",
    "              .select(col(\"Id\").alias(\"patientid\"),col(\"BIRTHDATE\").alias(\"dateofbirth\"))\n",
    "              )\n",
    "\n",
    "patients_df.show(5)"
   ]
  },
  {
   "cell_type": "code",
   "execution_count": 23,
   "id": "bd3f23d8",
   "metadata": {},
   "outputs": [
    {
     "name": "stdout",
     "output_type": "stream",
     "text": [
      "+--------------------+--------------------+--------+---------+----+-----+----+------------------+\n",
      "|           patientid|   dateofobservation|systolic|diastolic| hdl|  ldl| bmi|               age|\n",
      "+--------------------+--------------------+--------+---------+----+-----+----+------------------+\n",
      "|007dca45-b0c3-cbf...|2008-07-20T00:06:17Z|   124.0|     88.0|62.0| 83.7|27.7|  94.3972602739726|\n",
      "|007f51fe-4731-86b...|2016-11-10T11:03:34Z|   127.0|     80.0|65.8|109.3|30.1|42.057534246575344|\n",
      "|0115568f-b00b-19f...|2018-02-27T02:19:08Z|   123.0|     88.0|55.0|151.3|27.8| 71.01917808219179|\n",
      "|012da0c4-8f2d-f59...|2015-10-30T07:56:09Z|   127.0|     74.0|43.7|155.6|28.4|  86.3972602739726|\n",
      "|01f5bb36-ba72-80b...|2018-07-10T23:38:57Z|   109.0|     84.0|67.0| 99.3|30.1| 74.43013698630136|\n",
      "+--------------------+--------------------+--------+---------+----+-----+----+------------------+\n",
      "only showing top 5 rows\n",
      "\n"
     ]
    }
   ],
   "source": [
    "merged_observations_with_age_df = (\n",
    "  merged_observations_df.join(patients_df, \"patientid\")\n",
    "                        .withColumn(\"age\", datediff(col(\"dateofobservation\"), col(\"dateofbirth\"))/365)\n",
    "                        .drop(\"dateofbirth\")\n",
    "  )\n",
    "\n",
    "merged_observations_with_age_df.show(5)"
   ]
  },
  {
   "cell_type": "code",
   "execution_count": 26,
   "id": "28aafc81",
   "metadata": {},
   "outputs": [],
   "source": [
    "diabetics_df = (spark.read.option(\"header\",\"true\").csv(r\"C:\\work\\argo\\ml\\synthea\\output\\csv\\conditions.csv\")\n",
    "               .filter(col(\"DESCRIPTION\") == \"Diabetes\")\n",
    "               .select(col('PATIENT').alias(\"patientid\"),col(\"START\").alias(\"start\"))\n",
    "               )"
   ]
  },
  {
   "cell_type": "code",
   "execution_count": 29,
   "id": "f1b772df",
   "metadata": {},
   "outputs": [
    {
     "name": "stdout",
     "output_type": "stream",
     "text": [
      "+--------------------+----------+\n",
      "|           patientid|     start|\n",
      "+--------------------+----------+\n",
      "|511427c5-b2ad-1ba...|2005-03-06|\n",
      "|167a4921-4e0f-a76...|2002-03-29|\n",
      "|85d54c72-0b41-eff...|1972-04-30|\n",
      "|c8acf77a-1831-86a...|2019-05-24|\n",
      "|bd1c8c51-7876-bf4...|2006-01-13|\n",
      "+--------------------+----------+\n",
      "only showing top 5 rows\n",
      "\n"
     ]
    }
   ],
   "source": [
    "diabetics_df.show(5)"
   ]
  },
  {
   "cell_type": "code",
   "execution_count": 30,
   "id": "f72e683f",
   "metadata": {},
   "outputs": [
    {
     "name": "stdout",
     "output_type": "stream",
     "text": [
      "+--------------------+--------------------+--------+---------+----+-----+----+------------------+----------+--------+\n",
      "|           patientid|   dateofobservation|systolic|diastolic| hdl|  ldl| bmi|               age|     start|diabetic|\n",
      "+--------------------+--------------------+--------+---------+----+-----+----+------------------+----------+--------+\n",
      "|02314aa6-55ab-e60...|2021-03-24T14:33:45Z|   106.0|     76.0|48.7|137.2|29.7|37.320547945205476|2015-02-18|       1|\n",
      "|02314aa6-55ab-e60...|2019-03-13T14:33:45Z|   128.0|     77.0|58.3|114.2|28.3| 35.28767123287671|2015-02-18|       1|\n",
      "|02314aa6-55ab-e60...|2018-03-07T14:33:45Z|   116.0|     84.0|51.1|151.0|27.6|34.271232876712325|2015-02-18|       1|\n",
      "|02314aa6-55ab-e60...|2017-03-01T14:33:45Z|   112.0|     77.0|46.7|154.3|29.7| 33.25479452054795|2015-02-18|       1|\n",
      "|02314aa6-55ab-e60...|2016-02-24T14:33:45Z|   121.0|     74.0|53.9|134.4|29.7| 32.23835616438356|2015-02-18|       1|\n",
      "+--------------------+--------------------+--------+---------+----+-----+----+------------------+----------+--------+\n",
      "only showing top 5 rows\n",
      "\n"
     ]
    }
   ],
   "source": [
    "observations_and_condition_df = (\n",
    "    merged_observations_with_age_df.join(diabetics_df, \"patientid\", \"left_outer\")\n",
    "    .withColumn(\"diabetic\", when(col(\"start\").isNotNull(), 1).otherwise(0))\n",
    ")\n",
    "\n",
    "observations_and_condition_df.show(5)"
   ]
  },
  {
   "cell_type": "code",
   "execution_count": 31,
   "id": "2817753a",
   "metadata": {},
   "outputs": [],
   "source": [
    "observations_and_condition_df = (\n",
    "    observations_and_condition_df.filter((col(\"diabetic\") == 0) | ((col(\"dateofobservation\") >= col(\"start\"))))\n",
    ")\n"
   ]
  },
  {
   "cell_type": "code",
   "execution_count": 32,
   "id": "2573271e",
   "metadata": {},
   "outputs": [],
   "source": [
    "from pyspark.sql.window import Window\n",
    "\n",
    "w = Window.partitionBy(observations_and_condition_df[\"patientid\"]).orderBy(merged_observations_df[\"dateofobservation\"].asc())\n",
    "\n",
    "first_observation_df = observations_and_condition_df.withColumn(\"rn\", row_number().over(w)).where(col(\"rn\") == 1).drop(\"rn\")"
   ]
  },
  {
   "cell_type": "code",
   "execution_count": 33,
   "id": "8ef87ead",
   "metadata": {},
   "outputs": [
    {
     "data": {
      "text/plain": [
       "132567"
      ]
     },
     "execution_count": 33,
     "metadata": {},
     "output_type": "execute_result"
    }
   ],
   "source": [
    "observations_and_condition_df.count()"
   ]
  },
  {
   "cell_type": "code",
   "execution_count": 34,
   "id": "185f03a7",
   "metadata": {},
   "outputs": [
    {
     "data": {
      "text/plain": [
       "22736"
      ]
     },
     "execution_count": 34,
     "metadata": {},
     "output_type": "execute_result"
    }
   ],
   "source": [
    "first_observation_df.count()"
   ]
  },
  {
   "cell_type": "code",
   "execution_count": 38,
   "id": "071bfc1f",
   "metadata": {},
   "outputs": [],
   "source": [
    "first_pdf = first_observation_df.toPandas()"
   ]
  },
  {
   "cell_type": "code",
   "execution_count": 41,
   "id": "41bba694",
   "metadata": {},
   "outputs": [],
   "source": [
    "first_pdf.to_csv(r\"./data/processedData_first.csv\",index=False)"
   ]
  },
  {
   "cell_type": "code",
   "execution_count": 42,
   "id": "ebe36cba",
   "metadata": {},
   "outputs": [],
   "source": [
    "first_pdf.to_parquet(r\"./data/processedData_first.parquet\",index=False)"
   ]
  },
  {
   "cell_type": "code",
   "execution_count": 45,
   "id": "2aca6c05",
   "metadata": {},
   "outputs": [],
   "source": [
    "observations_and_condition_pdf = observations_and_condition_df.toPandas()"
   ]
  },
  {
   "cell_type": "code",
   "execution_count": 46,
   "id": "d1bf0f82",
   "metadata": {},
   "outputs": [],
   "source": [
    "observations_and_condition_pdf.to_parquet(r\"./data/processedData_full.parquet\",index=False)"
   ]
  },
  {
   "cell_type": "code",
   "execution_count": 47,
   "id": "ce4f3871",
   "metadata": {},
   "outputs": [],
   "source": [
    "observations_and_condition_pdf.to_csv(r\"./data/processedData_full.csv\",index=False)"
   ]
  },
  {
   "cell_type": "code",
   "execution_count": 48,
   "id": "232001ef",
   "metadata": {},
   "outputs": [],
   "source": [
    "spark.stop()"
   ]
  },
  {
   "cell_type": "code",
   "execution_count": null,
   "id": "5609504b",
   "metadata": {},
   "outputs": [],
   "source": []
  },
  {
   "cell_type": "code",
   "execution_count": null,
   "id": "b26acd68",
   "metadata": {},
   "outputs": [],
   "source": []
  }
 ],
 "metadata": {
  "kernelspec": {
   "display_name": "Python 3",
   "language": "python",
   "name": "python3"
  },
  "language_info": {
   "codemirror_mode": {
    "name": "ipython",
    "version": 3
   },
   "file_extension": ".py",
   "mimetype": "text/x-python",
   "name": "python",
   "nbconvert_exporter": "python",
   "pygments_lexer": "ipython3",
   "version": "3.8.3"
  }
 },
 "nbformat": 4,
 "nbformat_minor": 5
}
